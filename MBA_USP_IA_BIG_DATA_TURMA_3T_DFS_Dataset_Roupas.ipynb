{
  "nbformat": 4,
  "nbformat_minor": 0,
  "metadata": {
    "colab": {
      "provenance": []
    },
    "kernelspec": {
      "name": "python3",
      "display_name": "Python 3"
    },
    "language_info": {
      "name": "python"
    }
  },
  "cells": [
    {
      "cell_type": "markdown",
      "source": [],
      "metadata": {
        "id": "ToI95CJ9yXXn"
      }
    },
    {
      "cell_type": "code",
      "source": [
        "import zipfile\n",
        "import os\n",
        "\n",
        "\n",
        "#Baixar arquivo da url https://www.kaggle.com/datasets/paramaggarwal/fashion-product-images-dataset?select=fashion-dataset\n",
        "# Caminho do arquivo ZIP que você quer extrair\n",
        "zip_path = '#PATH_IMAGES_ZIP'\n",
        "\n",
        "\n",
        "# Caminho do diretório onde você quer salvar os arquivos extraídos\n",
        "extract_to_path = './MBAIA_DATASETS/TCC/'\n",
        "\n",
        "# Verificando se o caminho de destino existe, se não, cria o diretório\n",
        "if not os.path.exists(extract_to_path):\n",
        "    os.makedirs(extract_to_path)\n",
        "\n",
        "# Abrindo o arquivo ZIP em modo de leitura\n",
        "with zipfile.ZipFile(zip_path, 'r') as zip_ref:\n",
        "    # Extraindo todos os arquivos no diretório especificado\n",
        "    zip_ref.extractall(extract_to_path)\n",
        "\n",
        "print(f'Arquivos extraídos para: {extract_to_path}')"
      ],
      "metadata": {
        "id": "bym6dDZEyd1b"
      },
      "execution_count": null,
      "outputs": []
    },
    {
      "cell_type": "markdown",
      "source": [],
      "metadata": {
        "id": "i9vqqEBb2EZB"
      }
    },
    {
      "cell_type": "code",
      "source": [
        "import pandas as pd\n",
        "\n",
        "# Caminho para o arquivo CSV\n",
        "file_path = './MBAIA_DATASETS/TCC/fashion-dataset/fashion-dataset/styles.csv'\n",
        "\n",
        "# Carregar o arquivo CSV em um DataFrame\n",
        "df = pd.read_csv(file_path, delimiter=',', on_bad_lines='skip')\n",
        "\n",
        "# Exibir as 10 primeiras linhas do DataFrame\n",
        "print(df.head(10))"
      ],
      "metadata": {
        "colab": {
          "base_uri": "https://localhost:8080/"
        },
        "id": "Z4sJgTCn13O3",
        "outputId": "9ef04cff-bf70-4fe6-9231-5a845fcac577"
      },
      "execution_count": null,
      "outputs": [
        {
          "output_type": "stream",
          "name": "stdout",
          "text": [
            "      id gender masterCategory subCategory  articleType baseColour  season  \\\n",
            "0  15970    Men        Apparel     Topwear       Shirts  Navy Blue    Fall   \n",
            "1  39386    Men        Apparel  Bottomwear        Jeans       Blue  Summer   \n",
            "2  59263  Women    Accessories     Watches      Watches     Silver  Winter   \n",
            "3  21379    Men        Apparel  Bottomwear  Track Pants      Black    Fall   \n",
            "4  53759    Men        Apparel     Topwear      Tshirts       Grey  Summer   \n",
            "5   1855    Men        Apparel     Topwear      Tshirts       Grey  Summer   \n",
            "6  30805    Men        Apparel     Topwear       Shirts      Green  Summer   \n",
            "7  26960  Women        Apparel     Topwear       Shirts     Purple  Summer   \n",
            "8  29114    Men    Accessories       Socks        Socks  Navy Blue  Summer   \n",
            "9  30039    Men    Accessories     Watches      Watches      Black  Winter   \n",
            "\n",
            "     year   usage                             productDisplayName  \n",
            "0  2011.0  Casual               Turtle Check Men Navy Blue Shirt  \n",
            "1  2012.0  Casual             Peter England Men Party Blue Jeans  \n",
            "2  2016.0  Casual                       Titan Women Silver Watch  \n",
            "3  2011.0  Casual  Manchester United Men Solid Black Track Pants  \n",
            "4  2012.0  Casual                          Puma Men Grey T-shirt  \n",
            "5  2011.0  Casual           Inkfruit Mens Chain Reaction T-shirt  \n",
            "6  2012.0  Ethnic               Fabindia Men Striped Green Shirt  \n",
            "7  2012.0  Casual                  Jealous 21 Women Purple Shirt  \n",
            "8  2012.0  Casual                       Puma Men Pack of 3 Socks  \n",
            "9  2016.0  Casual                         Skagen Men Black Watch  \n"
          ]
        }
      ]
    },
    {
      "cell_type": "code",
      "source": [
        "filtered_df = df[df['articleType'].isin(['Shirts', 'Tshirts'])]\n",
        "\n",
        "print(filtered_df.head(10))"
      ],
      "metadata": {
        "colab": {
          "base_uri": "https://localhost:8080/"
        },
        "id": "_r8rViRT49qs",
        "outputId": "04833b14-18f8-4f86-d5f5-588c591c32c9"
      },
      "execution_count": null,
      "outputs": [
        {
          "output_type": "stream",
          "name": "stdout",
          "text": [
            "       id gender masterCategory subCategory articleType baseColour  season  \\\n",
            "0   15970    Men        Apparel     Topwear      Shirts  Navy Blue    Fall   \n",
            "4   53759    Men        Apparel     Topwear     Tshirts       Grey  Summer   \n",
            "5    1855    Men        Apparel     Topwear     Tshirts       Grey  Summer   \n",
            "6   30805    Men        Apparel     Topwear      Shirts      Green  Summer   \n",
            "7   26960  Women        Apparel     Topwear      Shirts     Purple  Summer   \n",
            "15  12369    Men        Apparel     Topwear      Shirts     Purple    Fall   \n",
            "27   7990    Men        Apparel     Topwear     Tshirts  Navy Blue    Fall   \n",
            "30  37812    Men        Apparel     Topwear      Shirts  Navy Blue  Summer   \n",
            "31   4729   Boys        Apparel     Topwear     Tshirts      Green  Summer   \n",
            "32  56825    Men        Apparel     Topwear      Shirts      Brown  Summer   \n",
            "\n",
            "      year   usage                                 productDisplayName  \n",
            "0   2011.0  Casual                   Turtle Check Men Navy Blue Shirt  \n",
            "4   2012.0  Casual                              Puma Men Grey T-shirt  \n",
            "5   2011.0  Casual               Inkfruit Mens Chain Reaction T-shirt  \n",
            "6   2012.0  Ethnic                   Fabindia Men Striped Green Shirt  \n",
            "7   2012.0  Casual                      Jealous 21 Women Purple Shirt  \n",
            "15  2011.0  Formal              Reid & Taylor Men Check Purple Shirts  \n",
            "27  2011.0  Sports            Fila Men's Round Neck Navy Blue T-shirt  \n",
            "30  2012.0  Formal                   John Players Men Navy Blue Shirt  \n",
            "31  2011.0  Casual  Disney Kids Boy's Crew Sea Life Sialing Green ...  \n",
            "32  2012.0  Casual                       John Players Men Brown Shirt  \n"
          ]
        }
      ]
    },
    {
      "cell_type": "markdown",
      "source": [],
      "metadata": {
        "id": "heJ-CvX363pF"
      }
    },
    {
      "cell_type": "code",
      "source": [
        "import os\n",
        "import shutil\n",
        "import pandas as pd"
      ],
      "metadata": {
        "id": "CqYFRe7W9xfm"
      },
      "execution_count": null,
      "outputs": []
    },
    {
      "cell_type": "code",
      "source": [
        "#upper part fashion\n",
        "source_directory = './MBAIA_DATASETS/TCC/fashion-dataset/images'\n",
        "destination_directory = './MBAIA_DATASETS/TCC/upper_part_fashion'\n",
        "\n",
        "\n",
        "if not os.path.exists(destination_directory):\n",
        "    os.makedirs(destination_directory)\n",
        "\n",
        "\n",
        "for image_id in filtered_df['id']:\n",
        "    # Construir o nome completo do arquivo de imagem\n",
        "    # Assumindo que os IDs já contêm a extensão adequada (e.g., '123.jpg')\n",
        "    file_name = f\"{image_id}.jpg\"\n",
        "\n",
        "    # Caminhos completo de origem e destino\n",
        "    source_path = os.path.join(source_directory, file_name)\n",
        "    destination_path = os.path.join(destination_directory, file_name)\n",
        "\n",
        "    # Tentar copiar o arquivo e capturar exceções específicas\n",
        "    try:\n",
        "        shutil.copy(source_path, destination_path)\n",
        "        #print(f\"Copied {file_name} to {destination_directory}\")\n",
        "    except FileNotFoundError:\n",
        "        print(f\"Error: File not found {source_path}\")\n",
        "    except Exception as e:\n",
        "        print(f\"An error occurred: {e}\")\n"
      ],
      "metadata": {
        "colab": {
          "base_uri": "https://localhost:8080/"
        },
        "id": "H0BA1wFQ63GI",
        "outputId": "034b6927-d4bc-4aa6-cd7c-5d1beadb4afc"
      },
      "execution_count": null,
      "outputs": [
        {
          "output_type": "stream",
          "name": "stdout",
          "text": [
            "Error: File not found ./MBAIA_DATASETS/TCC/fashion-dataset/images/39403.jpg\n",
            "Error: File not found ./MBAIA_DATASETS/TCC/fashion-dataset/images/39410.jpg\n",
            "Error: File not found ./MBAIA_DATASETS/TCC/fashion-dataset/images/39425.jpg\n"
          ]
        }
      ]
    },
    {
      "cell_type": "markdown",
      "source": [
        "```\n",
        "Error: File not found ./MBAIA_DATASETS/TCC/fashion-dataset/images/39403.jpg\n",
        "\n",
        "Error: File not found ./MBAIA_DATASETS/TCC/fashion-dataset/images/39410.jpg\n",
        "\n",
        "Error: File not found ./MBAIA_DATASETS/TCC/fashion-dataset/images/39425.jpg\n",
        "```\n",
        "\n"
      ],
      "metadata": {
        "id": "6ohNTSkvA4O8"
      }
    },
    {
      "cell_type": "markdown",
      "source": [],
      "metadata": {
        "id": "JuL8OE_7Bg0I"
      }
    },
    {
      "cell_type": "code",
      "source": [
        "import zipfile\n",
        "import os\n",
        "\n",
        "def zipdir(path, ziph):\n",
        "    # Percorre todos os diretórios e arquivos\n",
        "    for root, dirs, files in os.walk(path):\n",
        "        for file in files:\n",
        "            # Cria o caminho completo do arquivo\n",
        "            full_path = os.path.join(root, file)\n",
        "            # Adiciona o arquivo ao ZIP, especificando o caminho relativo\n",
        "            ziph.write(full_path, os.path.relpath(full_path, os.path.join(path, '..')))\n",
        "\n",
        "# Caminho do diretório que contém as imagens\n",
        "dir_path = './MBAIA_DATASETS/TCC/upper_part_fashion/'\n",
        "\n",
        "# Caminho do arquivo ZIP que será criado\n",
        "zip_file_path = 'upper_part_fashion.zip'\n",
        "\n",
        "# Criando o arquivo ZIP\n",
        "with zipfile.ZipFile(zip_file_path, 'w', zipfile.ZIP_DEFLATED) as zipf:\n",
        "    zipdir(dir_path, zipf)\n",
        "\n",
        "print(f'Pasta {dir_path} foi compactada em {zip_file_path}')"
      ],
      "metadata": {
        "colab": {
          "base_uri": "https://localhost:8080/"
        },
        "id": "IrPTda2TBhb9",
        "outputId": "c1d047ad-643b-437c-8993-077b197ba9ad"
      },
      "execution_count": null,
      "outputs": [
        {
          "output_type": "stream",
          "name": "stdout",
          "text": [
            "Pasta ./MBAIA_DATASETS/TCC/upper_part_fashion/ foi compactada em upper_part_fashion.zip\n"
          ]
        }
      ]
    },
    {
      "cell_type": "markdown",
      "source": [],
      "metadata": {
        "id": "5dUG_NLDcEwi"
      }
    },
    {
      "cell_type": "code",
      "source": [
        "import zipfile\n",
        "import os\n",
        "\n",
        "\n",
        "# Caminho do arquivo ZIP que você quer extrair\n",
        "zip_path = '#PATH_FULL_UPPER_PART_FASHION_IMAGES_ZIP' #full_upper_part_fashion.zip\n",
        "\n",
        "# Caminho do diretório onde você quer salvar os arquivos extraídos\n",
        "extract_to_path = './MBAIA_DATASETS/TCC/'\n",
        "\n",
        "# Verificando se o caminho de destino existe, se não, cria o diretório\n",
        "if not os.path.exists(extract_to_path):\n",
        "    os.makedirs(extract_to_path)\n",
        "\n",
        "# Abrindo o arquivo ZIP em modo de leitura\n",
        "with zipfile.ZipFile(zip_path, 'r') as zip_ref:\n",
        "    # Extraindo todos os arquivos no diretório especificado\n",
        "    zip_ref.extractall(extract_to_path)\n",
        "\n",
        "print(f'Arquivos extraídos para: {extract_to_path}')"
      ],
      "metadata": {
        "colab": {
          "base_uri": "https://localhost:8080/"
        },
        "id": "DE7Ux04gcFLW",
        "outputId": "823a8fa4-c9cd-47fd-a7bd-8a03d5f2229c"
      },
      "execution_count": null,
      "outputs": [
        {
          "output_type": "stream",
          "name": "stdout",
          "text": [
            "Arquivos extraídos para: ./MBAIA_DATASETS/TCC/\n"
          ]
        }
      ]
    },
    {
      "cell_type": "markdown",
      "source": [],
      "metadata": {
        "id": "a87WjVEQdOTB"
      }
    },
    {
      "cell_type": "code",
      "source": [
        "import tensorflow_datasets as tfds\n",
        "import tensorflow as tf\n",
        "import os\n",
        "import shutil\n",
        "import numpy as np"
      ],
      "metadata": {
        "id": "2XFMvUY6dOym"
      },
      "execution_count": null,
      "outputs": []
    },
    {
      "cell_type": "code",
      "source": [
        "extract_to_path = './MBAIA_DATASETS/TCC/NEW/'\n",
        "# Caminho para o diretório com as imagens originais\n",
        "# Caminhos para os diretórios de treino e teste\n",
        "train_path = os.path.join(extract_to_path, 'upper_part_fashion/train')\n",
        "test_path = os.path.join(extract_to_path, 'upper_part_fashion/test')\n",
        "\n",
        "# Criar os diretórios de treino e teste se não existirem\n",
        "os.makedirs(train_path, exist_ok=True)\n",
        "os.makedirs(test_path, exist_ok=True)"
      ],
      "metadata": {
        "id": "jfqwiNn4dWGA"
      },
      "execution_count": null,
      "outputs": []
    },
    {
      "cell_type": "code",
      "source": [
        "folder_path = './MBAIA_DATASETS/TCC/full_upper_part_fashion/'\n",
        "# Listar todos os arquivos de imagem no diretório\n",
        "all_images = [f for f in os.listdir(folder_path) if f.endswith('.jpg') or f.endswith('.png') or f.endswith('.jpeg')]\n",
        "\n",
        "# Embaralhar a lista de arquivos\n",
        "np.random.shuffle(all_images)\n",
        "\n",
        "# Calcular o número de imagens para treinamento\n",
        "train_size = int(0.8 * len(all_images))\n",
        "\n",
        "# Dividir os arquivos em treino e teste\n",
        "train_files = all_images[:train_size]\n",
        "test_files = all_images[train_size:]\n",
        "\n",
        "# Mover os arquivos de treino para a pasta 'train'\n",
        "for file in train_files:\n",
        "    shutil.move(os.path.join(folder_path, file), train_path)\n",
        "\n",
        "# Mover os arquivos de teste para a pasta 'test'\n",
        "for file in test_files:\n",
        "    shutil.move(os.path.join(folder_path, file), test_path)"
      ],
      "metadata": {
        "id": "UoyJFvd4dvoX"
      },
      "execution_count": null,
      "outputs": []
    },
    {
      "cell_type": "code",
      "source": [
        "import zipfile\n",
        "import os\n",
        "\n",
        "def zipdir(path, ziph):\n",
        "    # Percorre todos os diretórios e arquivos\n",
        "    for root, dirs, files in os.walk(path):\n",
        "        for file in files:\n",
        "            # Cria o caminho completo do arquivo\n",
        "            full_path = os.path.join(root, file)\n",
        "            # Adiciona o arquivo ao ZIP, especificando o caminho relativo\n",
        "            ziph.write(full_path, os.path.relpath(full_path, os.path.join(path, '..')))\n",
        "\n",
        "# Caminho do diretório que contém as imagens\n",
        "dir_path = './MBAIA_DATASETS/TCC/NEW/upper_part_fashion/'\n",
        "\n",
        "# Caminho do arquivo ZIP que será criado\n",
        "zip_file_path = 'upper_part_fashion.zip'\n",
        "\n",
        "# Criando o arquivo ZIP\n",
        "with zipfile.ZipFile(zip_file_path, 'w', zipfile.ZIP_DEFLATED) as zipf:\n",
        "    zipdir(dir_path, zipf)\n",
        "\n",
        "print(f'Pasta {dir_path} foi compactada em {zip_file_path}')"
      ],
      "metadata": {
        "colab": {
          "base_uri": "https://localhost:8080/"
        },
        "id": "W1s4mP60eLst",
        "outputId": "dc30bdcb-daf7-49de-dcd8-f7f303c59439"
      },
      "execution_count": null,
      "outputs": [
        {
          "output_type": "stream",
          "name": "stdout",
          "text": [
            "Pasta ./MBAIA_DATASETS/TCC/NEW/upper_part_fashion/ foi compactada em upper_part_fashion.zip\n"
          ]
        }
      ]
    }
  ]
}